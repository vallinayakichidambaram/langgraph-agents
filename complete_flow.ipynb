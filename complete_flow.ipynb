{
 "cells": [
  {
   "cell_type": "code",
   "execution_count": 7,
   "id": "b0d9b811",
   "metadata": {},
   "outputs": [],
   "source": [
    "from typing import Dict, TypedDict, List, Annotated, Sequence\n",
    "from langgraph.graph import StateGraph, START, END, add_messages\n",
    "from langchain_core.messages import BaseMessage, HumanMessage, ToolMessage, AIMessage"
   ]
  },
  {
   "cell_type": "code",
   "execution_count": 10,
   "id": "ee1416a2",
   "metadata": {},
   "outputs": [],
   "source": [
    "from langgraph.prebuilt import ToolNode\n",
    "from langchain_core.tools import tool\n",
    "from langchain_huggingface.embeddings import HuggingFaceEmbeddings\n",
    "from langchain_qdrant import QdrantVectorStore\n",
    "from langchain_ollama import ChatOllama"
   ]
  },
  {
   "cell_type": "code",
   "execution_count": 4,
   "id": "d0915200",
   "metadata": {},
   "outputs": [],
   "source": [
    "class Agentstate(TypedDict):\n",
    "    messages: Annotated[Sequence[BaseMessage], add_messages]"
   ]
  },
  {
   "cell_type": "code",
   "execution_count": 5,
   "id": "21de5e6d",
   "metadata": {},
   "outputs": [],
   "source": [
    "\n",
    "# Node 1 - to parse html file and store only the html sections\n",
    "def parse_html():\n",
    "    \"\"\"This node will parse the html file, create chunks and store the chunks in a collection in vector DB\"\"\"\n",
    "    return \"Success\"\n",
    "\n",
    "# Node 2 - to parse style section in the html\n",
    "def parse_css():\n",
    "    \"\"\"This node will parse the css section (style section), create chunks and store the chunks in a collection in vector DB\"\"\"\n",
    "    return \"Success\"\n",
    "\n",
    "# Node 3 - to parse script section in the html\n",
    "def parse_js():\n",
    "    \"\"\"This node will parse the javascript section (script section), create chunks and store the chunks in a collection in vector DB\"\"\"\n",
    "    return \"Success\"\n"
   ]
  },
  {
   "cell_type": "code",
   "execution_count": 12,
   "id": "83e6dd44",
   "metadata": {},
   "outputs": [],
   "source": [
    "@tool \n",
    "def fetch_html_context():\n",
    "    \"\"\"Use this tool to fetch the relevant html sections related to user query and pass it to AI model for modification\"\"\"\n",
    "\n",
    "\n",
    "@tool\n",
    "def fetch_css_context():\n",
    "    \"\"\"Use this tool to fetch the css classes or styles used in the html in case the user query requires changes in css section\"\"\"\n",
    "\n",
    "@tool\n",
    "def fetch_js_context():\n",
    "    \"\"\"Use this tool to fetch the javascript functions used in html in case the user query requires changes in javascript section\"\"\"\n",
    "\n"
   ]
  },
  {
   "cell_type": "code",
   "execution_count": 14,
   "id": "3afc5b3a",
   "metadata": {},
   "outputs": [],
   "source": [
    "tools = [fetch_html_context, fetch_css_context, fetch_js_context]\n",
    "\n",
    "llm = ChatOllama(base_url=\"http://localhost:11434/\",model=\"qwen2.5-coder:1.5b\",\n",
    "    temperature=0\n",
    ").bind_tools(tools=tools)"
   ]
  },
  {
   "cell_type": "code",
   "execution_count": 6,
   "id": "4e4c7882",
   "metadata": {},
   "outputs": [],
   "source": [
    "# Add a system prompt and tell the AI to use the tools to fetch relevant data and specify the output format\n",
    "def call_llm(state: Agentstate):\n",
    "    \"\"\"This node will call the AI model with the user query\"\"\"\n",
    "    return {\"messages\": [\"success\"]}\n",
    "\n",
    "\n",
    "# This is the conditional edge - check the last message, if it requires a tool call, return continue. Else return next\n",
    "def should_continue():\n",
    "    \"\"\"This node will decide whether to loop through the tools or move to the next step in the graph\"\"\"\n",
    "    return \"continue\""
   ]
  },
  {
   "cell_type": "code",
   "execution_count": 15,
   "id": "11aa3ab0",
   "metadata": {},
   "outputs": [],
   "source": [
    "def parse_output():\n",
    "    \"\"\"This node will replace the html, css and js sections in the vector DB and if any new sections are added then, it will add them in vector DB\"\"\"\n",
    "\n",
    "\n",
    "def render_html():\n",
    "    \"\"\"This node will merge the chunks in the vector DB into final html file\"\"\"\n",
    "\n"
   ]
  },
  {
   "cell_type": "code",
   "execution_count": 19,
   "id": "c52d4551",
   "metadata": {},
   "outputs": [],
   "source": [
    "graph = StateGraph(Agentstate)\n",
    "graph.add_node(\"parse_html\", parse_html)\n",
    "graph.add_node(\"parse_css\", parse_css)\n",
    "graph.add_node(\"parse_js\", parse_js)\n",
    "graph.add_node(\"call_model\", call_llm)\n",
    "tool_node = ToolNode(tools=tools)\n",
    "graph.add_node(\"tool_node\", tool_node)\n",
    "graph.add_node(\"parse_output\", parse_output)\n",
    "\n",
    "graph.add_edge(START, \"parse_html\")\n",
    "graph.add_edge(\"parse_html\", \"parse_css\")\n",
    "graph.add_edge(\"parse_css\", \"parse_js\")\n",
    "graph.add_edge(\"parse_js\", \"call_model\")\n",
    "\n",
    "\n",
    "graph.add_conditional_edges(\n",
    "    \"call_model\",\n",
    "    should_continue,\n",
    "    {\n",
    "        \"continue\": \"tool_node\",\n",
    "        \"next\": \"parse_output\"\n",
    "    }\n",
    ")\n",
    "\n",
    "graph.add_edge(\"tool_node\", \"call_model\")\n",
    "graph.add_node(\"render_html\", render_html)\n",
    "graph.add_edge(\"parse_output\", \"render_html\")\n",
    "graph.add_edge(\"render_html\", END)\n",
    "\n",
    "agent = graph.compile()"
   ]
  },
  {
   "cell_type": "code",
   "execution_count": 20,
   "id": "12d2c636",
   "metadata": {},
   "outputs": [
    {
     "data": {
      "image/png": "[encoded data removed]",
      "text/plain": [
       "<IPython.core.display.Image object>"
      ]
     },
     "metadata": {},
     "output_type": "display_data"
    }
   ],
   "source": [
    "from IPython.display import Image, display\n",
    "display(Image(agent.get_graph().draw_mermaid_png()))"
   ]
  }
 ],
 "metadata": {
  "kernelspec": {
   "display_name": ".venv",
   "language": "python",
   "name": "python3"
  },
  "language_info": {
   "codemirror_mode": {
    "name": "ipython",
    "version": 3
   },
   "file_extension": ".py",
   "mimetype": "text/x-python",
   "name": "python",
   "nbconvert_exporter": "python",
   "pygments_lexer": "ipython3",
   "version": "3.13.3"
  }
 },
 "nbformat": 4,
 "nbformat_minor": 5
}
