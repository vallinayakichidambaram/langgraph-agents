{
 "cells": [
  {
   "cell_type": "code",
   "execution_count": 34,
   "id": "e5138df2",
   "metadata": {},
   "outputs": [],
   "source": [
    "# A simple bot with no memory\n",
    "\n",
    "from typing import Dict, TypedDict, List\n",
    "from langgraph.graph import StateGraph, START, END\n",
    "from langchain_ollama import ChatOllama\n",
    "from langchain_core.messages import HumanMessage"
   ]
  },
  {
   "cell_type": "code",
   "execution_count": 35,
   "id": "f8a59eb5",
   "metadata": {},
   "outputs": [],
   "source": [
    "class AgentState(TypedDict):\n",
    "    messages: List[HumanMessage]"
   ]
  },
  {
   "cell_type": "code",
   "execution_count": 36,
   "id": "2da4fc1b",
   "metadata": {},
   "outputs": [],
   "source": [
    "llm = ChatOllama(base_url=\"http://localhost:11434/\", model=\"tinyllama:1.1b\")"
   ]
  },
  {
   "cell_type": "code",
   "execution_count": 37,
   "id": "d04d9332",
   "metadata": {},
   "outputs": [],
   "source": [
    "def agent_bot(state: AgentState) -> AgentState:\n",
    "    response = llm.invoke(state['messages'])\n",
    "    print(f\"\\nAI: {response.content}\")\n",
    "    return state\n"
   ]
  },
  {
   "cell_type": "code",
   "execution_count": 38,
   "id": "2e80d0bd",
   "metadata": {},
   "outputs": [],
   "source": [
    "graph = StateGraph(AgentState)\n",
    "graph.add_node(\"call_llm\", agent_bot)\n",
    "graph.add_edge(START, \"call_llm\")\n",
    "graph.add_edge(\"call_llm\", END)\n",
    "agent = graph.compile()"
   ]
  },
  {
   "cell_type": "code",
   "execution_count": 39,
   "id": "d698441f",
   "metadata": {},
   "outputs": [
    {
     "data": {
      "image/png": "[encoded data removed]",
      "text/plain": [
       "<IPython.core.display.Image object>"
      ]
     },
     "metadata": {},
     "output_type": "display_data"
    }
   ],
   "source": [
    "from IPython.display import Image, display\n",
    "display(Image(agent.get_graph().draw_mermaid_png()))"
   ]
  },
  {
   "cell_type": "code",
   "execution_count": 40,
   "id": "227001b1",
   "metadata": {},
   "outputs": [
    {
     "name": "stdout",
     "output_type": "stream",
     "text": [
      "\n",
      "AI: Hi, I'm AI. I'm a chatbot that uses natural language processing to understand human speech and respond accordingly. However, as an artificial intelligence, I can only exist in digital form.\n"
     ]
    }
   ],
   "source": [
    "response = agent.invoke({\n",
    "    \"messages\": [HumanMessage(content=\"Hi, I'm Valli. Who are you?\")]\n",
    "})\n",
    "# print(response)"
   ]
  }
 ],
 "metadata": {
  "kernelspec": {
   "display_name": ".venv",
   "language": "python",
   "name": "python3"
  },
  "language_info": {
   "codemirror_mode": {
    "name": "ipython",
    "version": 3
   },
   "file_extension": ".py",
   "mimetype": "text/x-python",
   "name": "python",
   "nbconvert_exporter": "python",
   "pygments_lexer": "ipython3",
   "version": "3.13.3"
  }
 },
 "nbformat": 4,
 "nbformat_minor": 5
}
